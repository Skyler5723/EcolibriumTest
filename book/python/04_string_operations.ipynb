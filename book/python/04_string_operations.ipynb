{
  "cells": [
    {
      "cell_type": "markdown",
      "id": "0",
      "metadata": {
        "id": "0"
      },
      "source": [
        "# String Operations\n",
        "\n",
        "[![Open In Colab](https://colab.research.google.com/assets/colab-badge.svg)](https://colab.research.google.com/github/giswqs/geog-312/blob/main/book/python/04_string_operations.ipynb)\n",
        "\n",
        "## Overview\n",
        "\n",
        "This lecture will cover various string operations in Python, with a focus on their application in geospatial contexts. Strings are fundamental in handling textual data, such as names of geographic locations, coordinates, and data extracted from text files. Mastering string operations allows you to effectively manipulate and analyze geographic information, which is essential for tasks like data cleaning, formatting, parsing, and even geocoding.\n",
        "\n",
        "## Learning Objectives\n",
        "\n",
        "By the end of this lecture, you should be able to:\n",
        "\n",
        "- Create and manipulate strings in Python, including concatenation and repetition.\n",
        "- Apply string methods such as `lower()`, `upper()`, `strip()`, `replace()`, and `split()` to process geospatial data.\n",
        "- Format strings using the `format()` method and f-strings to include variable data within strings.\n",
        "- Parse and extract specific information from strings, such as coordinates or location names.\n",
        "- Utilize string operations in practical geospatial tasks, enhancing your ability to work with and manage geographic data."
      ]
    },
    {
      "cell_type": "markdown",
      "id": "1",
      "metadata": {
        "id": "1"
      },
      "source": [
        "## Creating and Manipulating Strings\n",
        "\n",
        "Strings in Python are sequences of characters. You can create a string by enclosing characters in single or double quotes."
      ]
    },
    {
      "cell_type": "code",
      "execution_count": null,
      "id": "2",
      "metadata": {
        "id": "2"
      },
      "outputs": [],
      "source": [
        "location_name = \"Mount Everest\"  # A string representing the name of a location"
      ]
    },
    {
      "cell_type": "markdown",
      "id": "3",
      "metadata": {
        "id": "3"
      },
      "source": [
        "You can concatenate (join) strings using the `+` operator:"
      ]
    },
    {
      "cell_type": "code",
      "execution_count": null,
      "id": "4",
      "metadata": {
        "id": "4"
      },
      "outputs": [],
      "source": [
        "location_name_full = location_name + \", Nepal\"\n",
        "print(location_name_full)"
      ]
    },
    {
      "cell_type": "markdown",
      "id": "5",
      "metadata": {
        "id": "5"
      },
      "source": [
        "You can also repeat strings using the `*` operator:"
      ]
    },
    {
      "cell_type": "code",
      "execution_count": null,
      "id": "6",
      "metadata": {
        "id": "6"
      },
      "outputs": [],
      "source": [
        "separator = \"-\" * 10\n",
        "print(separator)"
      ]
    },
    {
      "cell_type": "markdown",
      "id": "7",
      "metadata": {
        "id": "7"
      },
      "source": [
        "Let's construct a basic SQL query string to select data from a geospatial database:"
      ]
    },
    {
      "cell_type": "code",
      "execution_count": null,
      "id": "8",
      "metadata": {
        "id": "8"
      },
      "outputs": [],
      "source": [
        "table_name = \"locations\"\n",
        "condition = \"country = 'Nepal'\"\n",
        "sql_query = f\"SELECT * FROM {table_name} WHERE {condition};\"\n",
        "print(sql_query)"
      ]
    },
    {
      "cell_type": "markdown",
      "id": "9",
      "metadata": {
        "id": "9"
      },
      "source": [
        "In more complex scenarios, you might want to dynamically build queries based on user input or multiple conditions."
      ]
    },
    {
      "cell_type": "markdown",
      "id": "10",
      "metadata": {
        "id": "10"
      },
      "source": [
        "## String Methods for Geospatial Data\n",
        "\n",
        "Python provides various built-in methods to manipulate strings. Some commonly used methods include:\n",
        "\n",
        "- `lower()`, `upper()`: Convert strings to lowercase or uppercase.\n",
        "- `strip()`: Remove leading and trailing whitespace.\n",
        "- `lstrip()`, `rstrip()`: Remove leading or trailing whitespace.\n",
        "- `replace()`: Replace a substring with another substring.\n",
        "- `split()`: Split a string into a list of substrings based on a delimiter.\n",
        "- `join()`: Join a list of strings into a single string with a specified delimiter."
      ]
    },
    {
      "cell_type": "code",
      "execution_count": null,
      "id": "11",
      "metadata": {
        "id": "11"
      },
      "outputs": [],
      "source": [
        "location_name_upper = location_name.upper()\n",
        "print(location_name_upper)  # Convert to uppercase"
      ]
    },
    {
      "cell_type": "code",
      "execution_count": null,
      "id": "12",
      "metadata": {
        "id": "12"
      },
      "outputs": [],
      "source": [
        "location_name_clean = location_name.strip()\n",
        "print(location_name_clean)  # Remove leading/trailing whitespace"
      ]
    },
    {
      "cell_type": "code",
      "execution_count": null,
      "id": "13",
      "metadata": {
        "id": "13"
      },
      "outputs": [],
      "source": [
        "location_name_replaced = location_name.replace(\"Everest\", \"K2\")\n",
        "print(location_name_replaced)  # Replace 'Everest' with 'K2'"
      ]
    },
    {
      "cell_type": "code",
      "execution_count": null,
      "id": "14",
      "metadata": {
        "id": "14"
      },
      "outputs": [],
      "source": [
        "location_parts = location_name_full.split(\", \")\n",
        "print(location_parts)  # Split the string into a list"
      ]
    },
    {
      "cell_type": "markdown",
      "id": "15",
      "metadata": {
        "id": "15"
      },
      "source": [
        "Suppose you have a list of country names with inconsistent formatting, and you want to normalize them:"
      ]
    },
    {
      "cell_type": "code",
      "execution_count": null,
      "id": "16",
      "metadata": {
        "id": "16"
      },
      "outputs": [],
      "source": [
        "countries = [\" nepal\", \"INDIA \", \"china \", \"Bhutan\"]\n",
        "normalized_countries = [country.strip().title() for country in countries]\n",
        "print(normalized_countries)"
      ]
    },
    {
      "cell_type": "markdown",
      "id": "17",
      "metadata": {
        "id": "17"
      },
      "source": [
        "This operation removes any leading/trailing spaces and ensures consistent capitalization."
      ]
    },
    {
      "cell_type": "markdown",
      "id": "18",
      "metadata": {
        "id": "18"
      },
      "source": [
        "## Formatting Strings\n",
        "\n",
        "String formatting is essential when preparing data for output or when you need to include variable values in strings. You can use the `format()` method or f-strings (in Python 3.6 and above) for string formatting."
      ]
    },
    {
      "cell_type": "code",
      "execution_count": 6,
      "id": "19",
      "metadata": {
        "id": "19",
        "outputId": "a463c1df-729c-4e53-e4dd-892b5fab66a1",
        "colab": {
          "base_uri": "https://localhost:8080/"
        }
      },
      "outputs": [
        {
          "output_type": "stream",
          "name": "stdout",
          "text": [
            "Coordinates: (27.9881, 86.925)\n"
          ]
        }
      ],
      "source": [
        "latitude = 27.9881\n",
        "longitude = 86.9250\n",
        "formatted_coordinates = \"Coordinates: ({}, {})\".format(latitude, longitude)\n",
        "print(formatted_coordinates)"
      ]
    },
    {
      "cell_type": "code",
      "execution_count": 7,
      "id": "20",
      "metadata": {
        "id": "20",
        "outputId": "ddb62c81-5c06-4ae5-b89e-6bc655eb5f7a",
        "colab": {
          "base_uri": "https://localhost:8080/"
        }
      },
      "outputs": [
        {
          "output_type": "stream",
          "name": "stdout",
          "text": [
            "Coordinates: (27.9881, 86.925)\n"
          ]
        }
      ],
      "source": [
        "formatted_coordinates_fstring = f\"Coordinates: ({latitude}, {longitude})\"\n",
        "print(formatted_coordinates_fstring)"
      ]
    },
    {
      "cell_type": "markdown",
      "id": "21",
      "metadata": {
        "id": "21"
      },
      "source": [
        "Well-Known Text (WKT) is a text markup language for representing vector geometry objects. Let's format a string to represent a POINT geometry:"
      ]
    },
    {
      "cell_type": "code",
      "execution_count": 8,
      "id": "22",
      "metadata": {
        "id": "22",
        "outputId": "27561a51-c94e-4b39-8c20-df7e48f7f39a",
        "colab": {
          "base_uri": "https://localhost:8080/"
        }
      },
      "outputs": [
        {
          "output_type": "stream",
          "name": "stdout",
          "text": [
            "POINT(86.925 27.9881)\n"
          ]
        }
      ],
      "source": [
        "wkt_point = f\"POINT({longitude} {latitude})\"\n",
        "print(wkt_point)"
      ]
    },
    {
      "cell_type": "markdown",
      "id": "23",
      "metadata": {
        "id": "23"
      },
      "source": [
        "## Parsing and Extracting Information from Strings\n",
        "\n",
        "Often, you will need to extract specific information from strings, especially when dealing with geographic data. For example, you might need to extract coordinates from a formatted string."
      ]
    },
    {
      "cell_type": "code",
      "execution_count": null,
      "id": "24",
      "metadata": {
        "id": "24"
      },
      "outputs": [],
      "source": [
        "coordinate_string = \"27.9881N, 86.9250E\"\n",
        "lat_str, lon_str = coordinate_string.split(\", \")\n",
        "latitude = float(lat_str[:-1])  # Convert string to float and remove the 'N'\n",
        "longitude = float(lon_str[:-1])  # Convert string to float and remove the 'E'\n",
        "print(f\"Parsed coordinates: ({latitude}, {longitude})\")"
      ]
    },
    {
      "cell_type": "markdown",
      "id": "25",
      "metadata": {
        "id": "25"
      },
      "source": [
        "If you have a list of addresses in the format \"Street, City, Country\", you might want to parse and extract each component:"
      ]
    },
    {
      "cell_type": "code",
      "execution_count": null,
      "id": "26",
      "metadata": {
        "id": "26"
      },
      "outputs": [],
      "source": [
        "address = \"123 Everest Rd, Kathmandu, Nepal\"\n",
        "street, city, country = address.split(\", \")\n",
        "print(f\"Street: {street}, City: {city}, Country: {country}\")"
      ]
    },
    {
      "cell_type": "markdown",
      "id": "27",
      "metadata": {
        "id": "27"
      },
      "source": [
        "## Exercises\n",
        "\n",
        "1. Create a string representing the name of a city. Convert the string to lowercase and then to uppercase.\n",
        "2. Take a string with the format 'latitude, longitude' (e.g., '40.7128N, 74.0060W') and extract the numeric values of latitude and longitude.\n",
        "3. Create a formatted string that includes the name of a location and its coordinates. Use both the `format()` method and f-strings to achieve this.\n",
        "4. Replace a substring in the name of a place (e.g., change 'San Francisco' to 'San Diego') and print the result.\n",
        "5. Given a list of addresses in the format \"Street, City, Country\", write a function to parse and return a dictionary with keys `street`, `city`, and `country`.\n",
        "6. Write a function that converts a pair of latitude and longitude coordinates into a WKT `POINT` string."
      ]
    },
    {
      "cell_type": "code",
      "execution_count": 5,
      "id": "28",
      "metadata": {
        "id": "28",
        "outputId": "c3ca1229-ef1e-43ac-afc5-9d1406221a1b",
        "colab": {
          "base_uri": "https://localhost:8080/"
        }
      },
      "outputs": [
        {
          "output_type": "stream",
          "name": "stdout",
          "text": [
            "{'street': {'123 Main St', '456 Elm St', '789 Oak St'}, 'city': {'Chicago', 'New York', 'Los Angeles'}, 'country': {'USA'}}\n"
          ]
        }
      ],
      "source": [
        "addresses = [\n",
        "    (\"123 Main St\", \"New York\", \"USA\"),\n",
        "    (\"456 Elm St\", \"Los Angeles\", \"USA\"),\n",
        "    (\"789 Oak St\", \"Chicago\", \"USA\"),\n",
        "]\n",
        "addresses_dict = {\n",
        "    f\"street\":  {addresses[0] for addresses in addresses}, \"city\": {addresses[1] for addresses in addresses}, \"country\": {addresses[2] for addresses in addresses}\n",
        "    }\n",
        "print(addresses_dict)\n",
        "\n"
      ]
    },
    {
      "cell_type": "markdown",
      "id": "29",
      "metadata": {
        "id": "29"
      },
      "source": [
        "## Summary\n",
        "\n",
        "String operations are crucial in geospatial programming, especially when dealing with textual geographic data. Mastering these operations will enable you to handle and manipulate geographic information effectively in your projects, whether you're formatting outputs, parsing inputs, or integrating with geospatial databases."
      ]
    }
  ],
  "metadata": {
    "kernelspec": {
      "display_name": "Python 3",
      "language": "python",
      "name": "python3"
    },
    "language_info": {
      "codemirror_mode": {
        "name": "ipython",
        "version": 3
      },
      "file_extension": ".py",
      "mimetype": "text/x-python",
      "name": "python",
      "nbconvert_exporter": "python",
      "pygments_lexer": "ipython3",
      "version": "3.11.8"
    },
    "colab": {
      "provenance": []
    }
  },
  "nbformat": 4,
  "nbformat_minor": 5
}