{
  "cells": [
    {
      "cell_type": "markdown",
      "id": "0",
      "metadata": {
        "id": "0"
      },
      "source": [
        "# Data Structures\n",
        "\n",
        "[![Open In Colab](https://colab.research.google.com/assets/colab-badge.svg)](https://colab.research.google.com/github/giswqs/geog-312/blob/main/book/python/03_data_structures.ipynb)\n",
        "\n",
        "## Overview\n",
        "\n",
        "In this lecture, we will explore the fundamental Python data structures: Tuples, Lists, Sets, and Dictionaries. These data structures are essential tools in geospatial programming, enabling you to efficiently store, manage, and manipulate various types of data. By mastering these structures, you will be able to handle complex geospatial datasets with ease, paving the way for more advanced analysis and processing tasks.\n",
        "\n",
        "## Learning Objectives\n",
        "\n",
        "By the end of this lecture, you should be able to:\n",
        "\n",
        "- Understand the characteristics and use cases of Python tuples, lists, sets, and dictionaries.\n",
        "- Apply these data structures to store and manipulate geospatial data, such as coordinates, paths, and attribute information.\n",
        "- Differentiate between mutable and immutable data structures and choose the appropriate structure for different geospatial tasks.\n",
        "- Perform common operations on these data structures, including indexing, slicing, adding/removing elements, and updating values.\n",
        "- Utilize dictionaries to manage geospatial feature attributes and understand the importance of key-value pairs in geospatial data management."
      ]
    },
    {
      "cell_type": "markdown",
      "id": "1",
      "metadata": {
        "id": "1"
      },
      "source": [
        "## Tuples\n",
        "\n",
        "Tuples are immutable sequences, meaning that once a tuple is created, its elements cannot be changed. Tuples are useful for storing fixed collections of items.\n",
        "\n",
        "For example, a tuple can be used to store the coordinates of a geographic point (latitude, longitude)."
      ]
    },
    {
      "cell_type": "code",
      "execution_count": 1,
      "id": "2",
      "metadata": {
        "id": "2"
      },
      "outputs": [],
      "source": [
        "point = (\n",
        "    35.6895,\n",
        "    139.6917,\n",
        ")  # Tuple representing a geographic point (latitude, longitude)"
      ]
    },
    {
      "cell_type": "markdown",
      "id": "3",
      "metadata": {
        "id": "3"
      },
      "source": [
        "You can access elements in a tuple using indexing:"
      ]
    },
    {
      "cell_type": "code",
      "execution_count": 2,
      "id": "4",
      "metadata": {
        "id": "4",
        "outputId": "cc7049ac-858a-4cfe-d4b5-8bc7c0cdbad0",
        "colab": {
          "base_uri": "https://localhost:8080/"
        }
      },
      "outputs": [
        {
          "output_type": "stream",
          "name": "stdout",
          "text": [
            "Latitude: 35.6895, Longitude: 139.6917\n"
          ]
        }
      ],
      "source": [
        "latitude = point[0]\n",
        "longitude = point[1]\n",
        "print(f\"Latitude: {latitude}, Longitude: {longitude}\")"
      ]
    },
    {
      "cell_type": "markdown",
      "id": "5",
      "metadata": {
        "id": "5"
      },
      "source": [
        "## Lists\n",
        "\n",
        "Lists are ordered, mutable sequences, meaning you can change, add, or remove elements after the list has been created. Lists are very flexible and can store multiple types of data, making them useful for various geospatial tasks.\n",
        "\n",
        "For example, you can store a list of coordinates representing a path or boundary."
      ]
    },
    {
      "cell_type": "code",
      "execution_count": 3,
      "id": "6",
      "metadata": {
        "id": "6"
      },
      "outputs": [],
      "source": [
        "path = [\n",
        "    (35.6895, 139.6917),\n",
        "    (34.0522, -118.2437),\n",
        "    (51.5074, -0.1278),\n",
        "]  # List of tuples representing a path"
      ]
    },
    {
      "cell_type": "markdown",
      "id": "7",
      "metadata": {
        "id": "7"
      },
      "source": [
        "You can add a new point to the path:"
      ]
    },
    {
      "cell_type": "code",
      "execution_count": 4,
      "id": "8",
      "metadata": {
        "id": "8",
        "outputId": "bbc1672f-4c7d-4ec8-f1ee-8b0a15adb186",
        "colab": {
          "base_uri": "https://localhost:8080/"
        }
      },
      "outputs": [
        {
          "output_type": "stream",
          "name": "stdout",
          "text": [
            "Updated path: [(35.6895, 139.6917), (34.0522, -118.2437), (51.5074, -0.1278), (48.8566, 2.3522)]\n"
          ]
        }
      ],
      "source": [
        "path.append((48.8566, 2.3522))  # Adding Paris to the path\n",
        "print(\"Updated path:\", path)"
      ]
    },
    {
      "cell_type": "markdown",
      "id": "9",
      "metadata": {
        "id": "9"
      },
      "source": [
        "Lists allow you to perform various operations such as slicing, which lets you access a subset of the list:"
      ]
    },
    {
      "cell_type": "code",
      "execution_count": 5,
      "id": "10",
      "metadata": {
        "id": "10",
        "outputId": "76d2e43c-34d1-4555-e325-3a2e1f2c778a",
        "colab": {
          "base_uri": "https://localhost:8080/"
        }
      },
      "outputs": [
        {
          "output_type": "stream",
          "name": "stdout",
          "text": [
            "Sub-path: [(35.6895, 139.6917), (34.0522, -118.2437)]\n"
          ]
        }
      ],
      "source": [
        "sub_path = path[:2]  # Slicing the first two points from the path\n",
        "print(\"Sub-path:\", sub_path)"
      ]
    },
    {
      "cell_type": "markdown",
      "id": "11",
      "metadata": {
        "id": "11"
      },
      "source": [
        "## Sets\n",
        "\n",
        "Sets are unordered collections of unique elements. Sets are useful when you need to store a collection of items but want to eliminate duplicates.\n",
        "\n",
        "For example, you might want to store a set of unique geographic regions visited during a survey."
      ]
    },
    {
      "cell_type": "code",
      "execution_count": 6,
      "id": "12",
      "metadata": {
        "id": "12"
      },
      "outputs": [],
      "source": [
        "regions = [\"North America\", \"Europe\", \"Asia\"]  # Set of regions\n",
        "regions = set(regions)"
      ]
    },
    {
      "cell_type": "markdown",
      "id": "13",
      "metadata": {
        "id": "13"
      },
      "source": [
        "You can add a new region to the set:"
      ]
    },
    {
      "cell_type": "code",
      "execution_count": 7,
      "id": "14",
      "metadata": {
        "id": "14",
        "outputId": "25ceef09-2ef2-4433-ffaa-30e4ea802a31",
        "colab": {
          "base_uri": "https://localhost:8080/"
        }
      },
      "outputs": [
        {
          "output_type": "stream",
          "name": "stdout",
          "text": [
            "Updated regions: {'Europe', 'North America', 'Asia', 'Africa'}\n"
          ]
        }
      ],
      "source": [
        "regions.add(\"Africa\")\n",
        "print(\"Updated regions:\", regions)"
      ]
    },
    {
      "cell_type": "markdown",
      "id": "15",
      "metadata": {
        "id": "15"
      },
      "source": [
        "Since sets do not allow duplicates, adding an existing region will not change the set:"
      ]
    },
    {
      "cell_type": "code",
      "execution_count": 8,
      "id": "16",
      "metadata": {
        "id": "16",
        "outputId": "c4ddee08-80bc-4c08-9c03-9afd9322a6a3",
        "colab": {
          "base_uri": "https://localhost:8080/"
        }
      },
      "outputs": [
        {
          "output_type": "stream",
          "name": "stdout",
          "text": [
            "Regions after attempting to add duplicate: {'Europe', 'North America', 'Asia', 'Africa'}\n"
          ]
        }
      ],
      "source": [
        "regions.add(\"Europe\")  # Attempting to add a duplicate element\n",
        "print(\"Regions after attempting to add duplicate:\", regions)"
      ]
    },
    {
      "cell_type": "markdown",
      "id": "17",
      "metadata": {
        "id": "17"
      },
      "source": [
        "## Dictionaries\n",
        "\n",
        "Dictionaries are collections of key-value pairs, where each key is unique. Dictionaries are extremely useful for storing data that is associated with specific identifiers, such as attribute data for geographic features.\n",
        "\n",
        "For example, you can use a dictionary to store attributes of a geospatial feature, such as a city."
      ]
    },
    {
      "cell_type": "code",
      "execution_count": 9,
      "id": "18",
      "metadata": {
        "id": "18"
      },
      "outputs": [],
      "source": [
        "city_attributes = {\n",
        "    \"name\": \"Tokyo\",\n",
        "    \"population\": 13929286,\n",
        "    \"coordinates\": (35.6895, 139.6917),\n",
        "}  # Dictionary storing attributes of a city"
      ]
    },
    {
      "cell_type": "markdown",
      "id": "19",
      "metadata": {
        "id": "19"
      },
      "source": [
        "You can access the values associated with specific keys:"
      ]
    },
    {
      "cell_type": "code",
      "execution_count": 12,
      "id": "20",
      "metadata": {
        "id": "20",
        "outputId": "1d17142f-9a64-466c-fcf6-27e2b5cb84f3",
        "colab": {
          "base_uri": "https://localhost:8080/"
        }
      },
      "outputs": [
        {
          "output_type": "stream",
          "name": "stdout",
          "text": [
            "City: Tokyo, Population: 13929286\n"
          ]
        }
      ],
      "source": [
        "city_name = city_attributes[\"name\"]\n",
        "city_population = city_attributes[\"population\"]\n",
        "print(f\"City: {city_name}, Population: {city_population}\")"
      ]
    },
    {
      "cell_type": "markdown",
      "id": "21",
      "metadata": {
        "id": "21"
      },
      "source": [
        "*You* can also add or update key-value pairs in a dictionary:"
      ]
    },
    {
      "cell_type": "code",
      "execution_count": 13,
      "id": "22",
      "metadata": {
        "id": "22",
        "outputId": "29fc4916-d537-43f7-d4f4-3d674cba83cb",
        "colab": {
          "base_uri": "https://localhost:8080/"
        }
      },
      "outputs": [
        {
          "output_type": "stream",
          "name": "stdout",
          "text": [
            "Updated city attributes: {'name': 'Tokyo', 'population': 13929286, 'coordinates': (35.6895, 139.6917), 'area_km2': 2191}\n"
          ]
        }
      ],
      "source": [
        "city_attributes[\"area_km2\"] = 2191  # Adding the area of the city in square kilometers\n",
        "print(\"Updated city attributes:\", city_attributes)"
      ]
    },
    {
      "cell_type": "markdown",
      "id": "23",
      "metadata": {
        "id": "23"
      },
      "source": [
        "## Exercises\n",
        "\n",
        "Create a dictionary to store attributes of a geographic feature (e.g., a river or mountain). Include keys for the name, length, and location of the feature. Then, add an additional attribute (e.g., the source of the river or the height of the mountain) and print the dictionary."
      ]
    },
    {
      "cell_type": "code",
      "execution_count": 18,
      "id": "24",
      "metadata": {
        "id": "24",
        "outputId": "2c39bc6b-2c84-475d-a9f0-f51e56181be1",
        "colab": {
          "base_uri": "https://localhost:8080/"
        }
      },
      "outputs": [
        {
          "output_type": "stream",
          "name": "stdout",
          "text": [
            "Mountain: Mount Rainier, Height: 14411 feet, Latitude and Longitude: (46.8799, -121.7269)\n"
          ]
        }
      ],
      "source": [
        "mountain_attributes = {\n",
        "    \"name\": \"Mount Rainier\",\n",
        "    \"height\": 14411,\n",
        "    \"lat_long\": (46.8799, -121.7269),\n",
        "}\n",
        "mountain_name = mountain_attributes[\"name\"]\n",
        "mountain_height = mountain_attributes[\"height\"]\n",
        "lat_long = mountain_attributes[\"lat_long\"]\n",
        "print(f\"Mountain: {mountain_name}, Height: {mountain_height} feet, Latitude and Longitude: {lat_long}\")"
      ]
    },
    {
      "cell_type": "markdown",
      "id": "25",
      "metadata": {
        "id": "25"
      },
      "source": [
        "## Summary\n",
        "\n",
        "Understanding and utilizing Python's data structures such as tuples, lists, sets, and dictionaries are fundamental skills in geospatial programming. These structures provide the flexibility and functionality required to manage and manipulate spatial data effectively.\n",
        "\n",
        "Continue exploring these data structures by applying them to your geospatial projects and analyses."
      ]
    }
  ],
  "metadata": {
    "kernelspec": {
      "display_name": "Python 3",
      "language": "python",
      "name": "python3"
    },
    "language_info": {
      "codemirror_mode": {
        "name": "ipython",
        "version": 3
      },
      "file_extension": ".py",
      "mimetype": "text/x-python",
      "name": "python",
      "nbconvert_exporter": "python",
      "pygments_lexer": "ipython3",
      "version": "3.11.8"
    },
    "colab": {
      "provenance": []
    }
  },
  "nbformat": 4,
  "nbformat_minor": 5
}